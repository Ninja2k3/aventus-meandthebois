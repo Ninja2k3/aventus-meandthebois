{
  "nbformat": 4,
  "nbformat_minor": 0,
  "metadata": {
    "colab": {
      "provenance": [],
      "authorship_tag": "ABX9TyPC3TNjOGOBNoKA2rJ+XCrX",
      "include_colab_link": true
    },
    "kernelspec": {
      "name": "python3",
      "display_name": "Python 3"
    },
    "language_info": {
      "name": "python"
    }
  },
  "cells": [
    {
      "cell_type": "markdown",
      "metadata": {
        "id": "view-in-github",
        "colab_type": "text"
      },
      "source": [
        "<a href=\"https://colab.research.google.com/github/Ninja2k3/aventus-meandthebois/blob/nlp/senti_pre_trained_ipnyb.ipynb\" target=\"_parent\"><img src=\"https://colab.research.google.com/assets/colab-badge.svg\" alt=\"Open In Colab\"/></a>"
      ]
    },
    {
      "cell_type": "code",
      "execution_count": null,
      "metadata": {
        "id": "Gl8V3AtAjCXw"
      },
      "outputs": [],
      "source": [
        "!pip3 install torch torchvision torchaudio --index-url https://download.pytorch.org/whl/cu118\n",
        "!pip install transformers numpy pandas beautifulsoup4 requests\n",
        "from transformers import AutoTokenizer, AutoModelForSequenceClassification\n",
        "import torch\n",
        "import requests\n",
        "from bs4 import BeautifulSoup\n",
        "import re"
      ]
    },
    {
      "cell_type": "code",
      "source": [
        "tokenizer = AutoTokenizer.from_pretrained('nlptown/bert-base-multilingual-uncased-sentiment')\n",
        "model = AutoModelForSequenceClassification.from_pretrained('nlptown/bert-base-multilingual-uncased-sentiment')"
      ],
      "metadata": {
        "id": "rGI9ZMCYkv74"
      },
      "execution_count": 15,
      "outputs": []
    },
    {
      "cell_type": "code",
      "source": [
        "tokens = tokenizer.encode('This bill can be usefull to students who prosper but it is bad  to students who dont a good financial background', return_tensors='pt')\n",
        "result = model(tokens)\n",
        "\n",
        "sentiment=['Very Opposing','Slightly Negative','Needs improvement','Slightly positive','Complete Grant']\n",
        "print(result.logits)\n",
        "sentiment[int(torch.argmax(result.logits))]"
      ],
      "metadata": {
        "colab": {
          "base_uri": "https://localhost:8080/",
          "height": 72
        },
        "id": "y5Du5hh_k33G",
        "outputId": "0d66e486-3f5f-4393-c628-0590e850e8c0"
      },
      "execution_count": 24,
      "outputs": [
        {
          "output_type": "stream",
          "name": "stdout",
          "text": [
            "tensor([[-0.4146,  0.5279,  1.2571,  0.2261, -1.3756]],\n",
            "       grad_fn=<AddmmBackward0>)\n"
          ]
        },
        {
          "output_type": "execute_result",
          "data": {
            "text/plain": [
              "'Needs improvement'"
            ],
            "application/vnd.google.colaboratory.intrinsic+json": {
              "type": "string"
            }
          },
          "metadata": {},
          "execution_count": 24
        }
      ]
    },
    {
      "cell_type": "code",
      "source": [
        "model"
      ],
      "metadata": {
        "id": "B5kOWMP_nOBH"
      },
      "execution_count": null,
      "outputs": []
    },
    {
      "cell_type": "markdown",
      "source": [
        "COMMENT ANALYSIS MODEL ABOVE\n",
        "^\n",
        "|\n",
        "|\n",
        "-------------------------\n",
        "Web scarping summary key points below"
      ],
      "metadata": {
        "id": "-xXwtq4Lqe9j"
      }
    },
    {
      "cell_type": "code",
      "source": [
        "import requests\n",
        "from bs4 import BeautifulSoup\n",
        "url='https://prsindia.org/billtrack/the-national-commission-for-homoeopathy-amendment-bill-2021'\n",
        "html=requests.get(url)\n",
        "s=BeautifulSoup(html.content,'html.parser')\n",
        "# print(s.prettify())\n",
        "key=s.find_all('a',title='PRS Bill Summary')\n",
        "for i in key:\n",
        "  k=i.get('href')\n",
        "\n",
        "url2=('https://prsindia.org'+k)\n",
        "url2\n",
        "html2=requests.get(url2)\n",
        "s1=BeautifulSoup(html2.content,'html.parser')\n",
        "key1=s1.find(class_='body_content')\n",
        "key1"
      ],
      "metadata": {
        "id": "p7DoXyTAqtC4",
        "colab": {
          "base_uri": "https://localhost:8080/"
        },
        "outputId": "2207a850-9cf6-4b30-fee5-0f09ba675ef3"
      },
      "execution_count": 135,
      "outputs": [
        {
          "output_type": "execute_result",
          "data": {
            "text/plain": [
              "<div class=\"body_content\">\n",
              "<div style=\"float: right;\">\n",
              "<img alt=\"\" class=\"parliament file-icon pull-right\" src=\"/images/pdf-sml.png\" style=\"margin-right: 5px;\" title=\"application/pdf\" width=\"17px\"/>\n",
              "<a href=\"/files/bills_acts/bills_parliament/2021/Bill Summary_National Commission for Homoeopathy (Amendment) Bill, 2021.pdf\" target=\"_blank\" title=\"PRS Bill Summary\">Open PDF</a>\n",
              "</div>\n",
              "<p><strong><span style='color:#3366ff; font-family:\"Bookman Old Style\",serif; font-size:26.0pt'>Bill Summary</span></strong></p>\n",
              "<p><strong><span style='color:#3366ff; font-family:\"Century\",serif; font-size:18.0pt'>The </span></strong><strong><span style='color:#3366ff; font-family:\"Century\",serif; font-size:18.0pt'>National Commission for Homoeopathy (Amendment) Bill, 2021</span></strong><strong><span style='color:#3366ff; font-family:\"Century\",serif; font-size:18.0pt'> </span></strong></p>\n",
              "<ul>\n",
              "<li><span style=\"font-size:14px\"><span style=\"font-family:Times New Roman,Times,serif\">The National Commission for Homoeopathy (Amendment) Bill, 2021 was introduced in Lok Sabha on August 9, 2021.  It amends the National Commission for Homoeopathy Act, 2020.</span></span><br/>\n",
              " </li>\n",
              "<li><span style=\"font-size:14px\"><span style=\"font-family:Times New Roman,Times,serif\">The 2020 Act replaced the Homoeopathy Central Council Act, 1973.  The 1973 Act set up the Central Council of Homeopathy for regulating homoeopathic education and practice.  The 2020 Act replaced the Council with a national commission for regulating homoeopathic education and practice.  Note that the 1973 Act was to be repealed on a date notified by the central government.</span></span><br/>\n",
              " </li>\n",
              "<li><span style=\"font-size:14px\"><span style=\"font-family:Times New Roman,Times,serif\">Before the 2020 Act was passed, the 1973 Act was amended in 2018 to provide for the reconstitution of the Central Council.  The Central Council was to be reconstituted within a year.  Between 2019 and 2021, this time period was extended from one year to four years.  The 1973 Act was also amended to provide that till the Council was reconstituted, its powers would be exercised by a Board of Governors, constituted by the central government.  Since, setting up of the National Commission was taking time and the Central Council was not reconstituted, the Board continued to function.</span></span><br/>\n",
              " </li>\n",
              "<li><span style=\"font-size:14px\"><span style=\"font-family:Times New Roman,Times,serif\">The National Commission was constituted on July 5, 2021 to supersede the Central Council and on the same date the 1973 Act was repealed.  The 2021 Bill specifies that all powers exercised and functions performed by the Board of Governors (as under the 1973 Act) will be deemed to have been done under the 2020 Act and will continue to remain in force. <strong> </strong></span></span></li>\n",
              "</ul>\n",
              "<p> </p>\n",
              "<div style=\"border:solid windowtext 1.0pt; mso-border-alt:solid windowtext .5pt; mso-element:para-border-div; padding:0cm 8.0pt 0cm 4.0pt\">\n",
              "<p><span style=\"font-size:14px\"><span style=\"font-family:Times New Roman,Times,serif\">DISCLAIMER: This document is being furnished to you for your information.  You may choose to reproduce or redistribute this report for non-commercial purposes in part or in full to any other person with due acknowledgement of PRS Legislative Research (“PRS”).  The opinions expressed herein are entirely those of the author(s).  PRS makes every effort to use reliable and comprehensive information, but PRS does not represent that the contents of the report are accurate or complete.  PRS is an independent, not-for-profit group.  This document has been prepared without regard to the objectives or opinions of those who may receive it.</span></span><span style='font-family:\"Times New Roman\",serif; font-size:10.0pt'><span style=\"font-size:14px\"><span style=\"font-family:Times New Roman,Times,serif\"> </span></span> </span></p>\n",
              "</div>\n",
              "</div>"
            ]
          },
          "metadata": {},
          "execution_count": 135
        }
      ]
    },
    {
      "cell_type": "code",
      "source": [
        "#TO GET HEADING AND SUMMARY OF BILL\n",
        "import unicodedata\n",
        "key_points=[]\n",
        "heading=[]\n",
        "ministry=[]\n",
        "k=key1.find_all('span',style=\"font-family:Times New Roman,Times,serif\")\n",
        "for i in k:\n",
        "  key_points.append(unicodedata.normalize(\"NFKD\",i.get_text()))\n",
        "head=s.find_all('a',class_='active fs-28')\n",
        "for i in head:\n",
        "  heading.append(unicodedata.normalize(\"NFKD\",i.get_text()))\n",
        "mini=s.find('div',class_='field field-name-field-ministry field-type-taxonomy-term-reference field-label-inline clearfix')\n",
        "for i in mini:\n",
        "  ministry.append(unicodedata.normalize(\"NFKD\",i.get_text()))\n",
        "ministry"
      ],
      "metadata": {
        "colab": {
          "base_uri": "https://localhost:8080/"
        },
        "id": "kThJXqILt9jc",
        "outputId": "a753d787-0edc-4ba5-b56c-93a181811bad"
      },
      "execution_count": 136,
      "outputs": [
        {
          "output_type": "execute_result",
          "data": {
            "text/plain": [
              "['\\n', 'Ministry: ', '\\n', '\\nAYUSH \\n', '\\n']"
            ]
          },
          "metadata": {},
          "execution_count": 136
        }
      ]
    },
    {
      "cell_type": "code",
      "source": [
        "print('\\n HEADING : \\n\\n'+heading[0])\n",
        "print('\\n KEY POINTS : \\n')\n",
        "for i in range(len(key_points)-1):\n",
        "  print(key_points[i]+'\\n')\n",
        "print('\\n MINISTRY :  '+ministry[3]+'\\n\\n')"
      ],
      "metadata": {
        "colab": {
          "base_uri": "https://localhost:8080/"
        },
        "id": "nIT-R06vbJ7u",
        "outputId": "5b7db560-c2a2-4859-b484-c90e68a54cdc"
      },
      "execution_count": 137,
      "outputs": [
        {
          "output_type": "stream",
          "name": "stdout",
          "text": [
            "\n",
            " HEADING : \n",
            "\n",
            "The National Commission for Homoeopathy (Amendment) Bill, 2021\n",
            "\n",
            " KEY POINTS : \n",
            "\n",
            "The National Commission for Homoeopathy (Amendment) Bill, 2021 was introduced in Lok Sabha on August 9, 2021.  It amends the National Commission for Homoeopathy Act, 2020.\n",
            "\n",
            "The 2020 Act replaced the Homoeopathy Central Council Act, 1973.  The 1973 Act set up the Central Council of Homeopathy for regulating homoeopathic education and practice.  The 2020 Act replaced the Council with a national commission for regulating homoeopathic education and practice.  Note that the 1973 Act was to be repealed on a date notified by the central government.\n",
            "\n",
            "Before the 2020 Act was passed, the 1973 Act was amended in 2018 to provide for the reconstitution of the Central Council.  The Central Council was to be reconstituted within a year.  Between 2019 and 2021, this time period was extended from one year to four years.  The 1973 Act was also amended to provide that till the Council was reconstituted, its powers would be exercised by a Board of Governors, constituted by the central government.  Since, setting up of the National Commission was taking time and the Central Council was not reconstituted, the Board continued to function.\n",
            "\n",
            "The National Commission was constituted on July 5, 2021 to supersede the Central Council and on the same date the 1973 Act was repealed.  The 2021 Bill specifies that all powers exercised and functions performed by the Board of Governors (as under the 1973 Act) will be deemed to have been done under the 2020 Act and will continue to remain in force.  \n",
            "\n",
            "DISCLAIMER: This document is being furnished to you for your information.  You may choose to reproduce or redistribute this report for non-commercial purposes in part or in full to any other person with due acknowledgement of PRS Legislative Research (“PRS”).  The opinions expressed herein are entirely those of the author(s).  PRS makes every effort to use reliable and comprehensive information, but PRS does not represent that the contents of the report are accurate or complete.  PRS is an independent, not-for-profit group.  This document has been prepared without regard to the objectives or opinions of those who may receive it.\n",
            "\n",
            "\n",
            " MINISTRY :  \n",
            "AYUSH \n",
            "\n",
            "\n",
            "\n"
          ]
        }
      ]
    }
  ]
}